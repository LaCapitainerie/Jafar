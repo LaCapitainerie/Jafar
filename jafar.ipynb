{
 "cells": [
  {
   "cell_type": "markdown",
   "metadata": {},
   "source": [
    "## Problème à patch\n",
    "Problème majeur, le stockage de l'écart type est fait en floatant hors l'écart entre les écarts types est inférieur à un floatant\n",
    "stockage à changer sous forme d'entier plus précis"
   ]
  },
  {
   "cell_type": "code",
   "execution_count": 1,
   "metadata": {},
   "outputs": [],
   "source": [
    "def lecture_csv(col:str=\"\", limit:int=float('infinity')):\n",
    "    \"\"\"\n",
    "    Lis le fichier loto.csv puis crée un dictionnaire de répartition de chaque boule allant de 1 à @limit\n",
    "    \"\"\"\n",
    "    import pandas as pd;\n",
    "    df = pd.read_csv(\"loto.csv\", sep=';')\n",
    "\n",
    "\n",
    "    # Creation du set de chaque numero_chance\n",
    "    numero_chance:dict[int, int] = {i: 0 for i in range(1, min(10, limit)+1)}\n",
    "    # Initialisation du nombre de numero_chance\n",
    "    for each in df[\"numero_chance\"]:\n",
    "        if each <= limit:\n",
    "            numero_chance[each] += 1\n",
    "\n",
    "    # Creation du set de chaque boule\n",
    "    boule:dict[int, int] = {i: 0 for i in range(1, min(49, limit)+1)}\n",
    "    # Initialisation du nombre de boule\n",
    "    for i in range(1, 5):\n",
    "        # Pour les 5 sets\n",
    "        for each in df[f\"boule_{i}\"]:\n",
    "            if each <= limit:\n",
    "                boule[each] += 1\n",
    "\n",
    "    print(\"stat :\", numero_chance if col == \"chance\" else boule)\n",
    "\n",
    "    # Décision du retour\n",
    "    d, size = (numero_chance, min(10, limit)) if col == \"chance\" else (boule, min(49, limit))\n",
    "    return (d, sum(d.values()), size)"
   ]
  },
  {
   "cell_type": "code",
   "execution_count": 2,
   "metadata": {},
   "outputs": [],
   "source": [
    "def moy_a_16(d:dict[int, int], t:int, size:int) -> int:\n",
    "\n",
    "    # Formule avec Carré plutôt que Absolue\n",
    "    return sum([pow(val*size - t, 2) for val in d.values()])"
   ]
  },
  {
   "cell_type": "markdown",
   "metadata": {},
   "source": [
    "### Ancien ecart type"
   ]
  },
  {
   "cell_type": "code",
   "execution_count": 3,
   "metadata": {},
   "outputs": [],
   "source": [
    "def chance_ecart_type_min(d:dict[int, int], t:int, size:int) -> list[tuple[int, float]]:\n",
    "    # Initialisation du set de pourcentage\n",
    "    percent:dict[int, int] = {}\n",
    "    \n",
    "    # On rajoute un seul tirage\n",
    "    t += 1\n",
    "\n",
    "    # Pour chaque numero de boule\n",
    "    for i in range(1, size+1):\n",
    "        # On copie le set d'origine\n",
    "        data:dict[int, int] = d.copy()\n",
    "        # Puis on ajoute le tirage souhaité à l'interieur\n",
    "        data[i] += 1\n",
    "        # On calcule le nouvel écart type et l'ajoute au pourcentage\n",
    "        percent[i]:int = moy_a_16(data, t, size)\n",
    "    return percent"
   ]
  },
  {
   "cell_type": "markdown",
   "metadata": {},
   "source": [
    "## Nouvel écart type"
   ]
  },
  {
   "cell_type": "code",
   "execution_count": 4,
   "metadata": {},
   "outputs": [],
   "source": [
    "def normal_ecart_type_min(d:dict[int, int]={}, t:int=0, size:int=0) -> list[tuple[int, float]]:\n",
    "    # Initialisation du set de pourcentage\n",
    "    percent = {}\n",
    "\n",
    "    # On rajoute un seul tirage\n",
    "    t += 1\n",
    "\n",
    "    # Liste des combinaisons déjà vues\n",
    "    values_already_seen:set = set()\n",
    "\n",
    "    # Pour chaque numero de boule\n",
    "    for i in range(1, size+1):\n",
    "        print(i, end=\"\\r\")\n",
    "        # On copie le set d'origine\n",
    "        data_b1 = d.copy()\n",
    "        # Puis on ajoute le tirage souhaité à l'interieur\n",
    "        data_b1[i] += 1\n",
    "\n",
    "        for j in range(1, size+1):\n",
    "            if j == i:continue\n",
    "\n",
    "            data_b2 = data_b1.copy()\n",
    "            data_b2[j] += 1\n",
    "            for k in range(1, size+1):\n",
    "                if k == i or k == j:continue\n",
    "\n",
    "                data_b3 = data_b2.copy()\n",
    "                data_b3[k] += 1\n",
    "                for l in range(1, size+1):\n",
    "                    if l == k or l == j or l == i:continue\n",
    "\n",
    "                    data_b4 = data_b3.copy()\n",
    "                    data_b4[l] += 1\n",
    "                    for m in range(1, size+1):\n",
    "                        if m == l or m == k or m == j or m == i:continue\n",
    "\n",
    "                        data_b5 = data_b4.copy()\n",
    "                        data_b5[m] += 1\n",
    "\n",
    "                        key:tuple = tuple(sorted((i, j, k, l, m)))\n",
    "\n",
    "                        if key in values_already_seen:\n",
    "                            continue\n",
    "\n",
    "                        values_already_seen.add(key)\n",
    "\n",
    "                        # On calcule le nouvel écart type et l'ajoute au pourcentage\n",
    "                        percent[key]:int = moy_a_16(data_b5, t, size)\n",
    "        \n",
    "    return percent"
   ]
  },
  {
   "cell_type": "code",
   "execution_count": 7,
   "metadata": {},
   "outputs": [],
   "source": [
    "def result(d:dict[int, int], t:int, size:int):\n",
    "    # Retourne la liste triée des écarts types\n",
    "    s:list\n",
    "    if size == 10:\n",
    "        s = sorted(chance_ecart_type_min(d, t, size).items(), key=lambda x: x[1])\n",
    "    else:\n",
    "        s = sorted(normal_ecart_type_min(d, t, size).items(), key=lambda x: x[1])\n",
    "    \n",
    "    return s"
   ]
  },
  {
   "cell_type": "code",
   "execution_count": 8,
   "metadata": {},
   "outputs": [
    {
     "name": "stdout",
     "output_type": "stream",
     "text": [
      "stat : {1: 52, 2: 44, 3: 54, 4: 54, 5: 61, 6: 59, 7: 62, 8: 51, 9: 54, 10: 44, 11: 51, 12: 68, 13: 61, 14: 46, 15: 65, 16: 48, 17: 52, 18: 47, 19: 51, 20: 52, 21: 48, 22: 66, 23: 52, 24: 56, 25: 48, 26: 62, 27: 50, 28: 61, 29: 50, 30: 56, 31: 67, 32: 57, 33: 52, 34: 49, 35: 63, 36: 50, 37: 51, 38: 59, 39: 45, 40: 48, 41: 56, 42: 54, 43: 47, 44: 68, 45: 47, 46: 54, 47: 49, 48: 65, 49: 54}\n"
     ]
    },
    {
     "data": {
      "text/plain": [
       "[(2, 5139120),\n",
       " (10, 5139120),\n",
       " (39, 5143922),\n",
       " (14, 5148724),\n",
       " (18, 5153526),\n",
       " (43, 5153526),\n",
       " (45, 5153526),\n",
       " (16, 5158328),\n",
       " (21, 5158328),\n",
       " (25, 5158328),\n",
       " (40, 5158328),\n",
       " (34, 5163130),\n",
       " (47, 5163130),\n",
       " (27, 5167932),\n",
       " (29, 5167932),\n",
       " (36, 5167932),\n",
       " (8, 5172734),\n",
       " (11, 5172734),\n",
       " (19, 5172734),\n",
       " (37, 5172734),\n",
       " (1, 5177536),\n",
       " (17, 5177536),\n",
       " (20, 5177536),\n",
       " (23, 5177536),\n",
       " (33, 5177536),\n",
       " (3, 5187140),\n",
       " (4, 5187140),\n",
       " (9, 5187140),\n",
       " (42, 5187140),\n",
       " (46, 5187140),\n",
       " (49, 5187140),\n",
       " (24, 5196744),\n",
       " (30, 5196744),\n",
       " (41, 5196744),\n",
       " (32, 5201546),\n",
       " (6, 5211150),\n",
       " (38, 5211150),\n",
       " (5, 5220754),\n",
       " (13, 5220754),\n",
       " (28, 5220754),\n",
       " (7, 5225556),\n",
       " (26, 5225556),\n",
       " (35, 5230358),\n",
       " (15, 5239962),\n",
       " (48, 5239962),\n",
       " (22, 5244764),\n",
       " (31, 5249566),\n",
       " (12, 5254368),\n",
       " (44, 5254368)]"
      ]
     },
     "execution_count": 8,
     "metadata": {},
     "output_type": "execute_result"
    }
   ],
   "source": [
    "data, times, size = lecture_csv()\n",
    "result(data, times, size)"
   ]
  }
 ],
 "metadata": {
  "kernelspec": {
   "display_name": "Python 3",
   "language": "python",
   "name": "python3"
  },
  "language_info": {
   "codemirror_mode": {
    "name": "ipython",
    "version": 3
   },
   "file_extension": ".py",
   "mimetype": "text/x-python",
   "name": "python",
   "nbconvert_exporter": "python",
   "pygments_lexer": "ipython3",
   "version": "3.11.7"
  }
 },
 "nbformat": 4,
 "nbformat_minor": 2
}
