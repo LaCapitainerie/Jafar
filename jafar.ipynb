{
 "cells": [
  {
   "cell_type": "markdown",
   "metadata": {},
   "source": [
    "## Problème à patch\n",
    "Problème majeur, le stockage de l'écart type est fait en floatant hors l'écart entre les écarts types est inférieur à un floatant\n",
    "stockage à changer sous forme d'entier plus précis"
   ]
  },
  {
   "cell_type": "code",
   "execution_count": null,
   "metadata": {},
   "outputs": [],
   "source": [
    "def lecture_csv(col:str=\"\", limit:int=float('infinity')):\n",
    "    \"\"\"\n",
    "    Lis le fichier loto.csv puis crée un dictionnaire de répartition de chaque boule allant de 1 à @limit\n",
    "    \"\"\"\n",
    "    import pandas as pd;\n",
    "    df = pd.read_csv(\"loto.csv\", sep=';')\n",
    "\n",
    "\n",
    "    # Creation du set de chaque numero_chance\n",
    "    numero_chance:dict[int, int] = {i: 0 for i in range(1, min(10, limit)+1)}\n",
    "    # Initialisation du nombre de numero_chance\n",
    "    for each in df[\"numero_chance\"]:\n",
    "        if each <= limit:\n",
    "            numero_chance[each] += 1\n",
    "\n",
    "    # Creation du set de chaque boule\n",
    "    boule:dict[int, int] = {i: 0 for i in range(1, min(49, limit)+1)}\n",
    "    # Initialisation du nombre de boule\n",
    "    for i in range(1, 5):\n",
    "        # Pour les 5 sets\n",
    "        for each in df[f\"boule_{i}\"]:\n",
    "            if each <= limit:\n",
    "                boule[each] += 1\n",
    "\n",
    "    print(\"stat :\", numero_chance if col == \"chance\" else boule)\n",
    "\n",
    "    # Décision du retour\n",
    "    d, size = (numero_chance, min(10, limit)) if col == \"chance\" else (boule, min(49, limit))\n",
    "    return (d, sum(d.values()), size)"
   ]
  },
  {
   "cell_type": "code",
   "execution_count": null,
   "metadata": {},
   "outputs": [],
   "source": [
    "def moy_a_16(d:dict[int, int], t:int, size:int) -> int:\n",
    "\n",
    "    # Formule avec Carré plutôt que Absolue\n",
    "    return sum([pow(val*size - t, 2) for val in d.values()])"
   ]
  },
  {
   "cell_type": "markdown",
   "metadata": {},
   "source": [
    "### Ancien ecart type"
   ]
  },
  {
   "cell_type": "code",
   "execution_count": null,
   "metadata": {},
   "outputs": [],
   "source": [
    "def chance_ecart_type_min(d:dict[int, int], t:int, size:int) -> list[tuple[int, float]]:\n",
    "    # Initialisation du set de pourcentage\n",
    "    percent:dict[int, int] = {}\n",
    "    \n",
    "    # On rajoute un seul tirage\n",
    "    t += 1\n",
    "\n",
    "    # Pour chaque numero de boule\n",
    "    for i in range(1, size+1):\n",
    "        # On copie le set d'origine\n",
    "        data:dict[int, int] = d.copy()\n",
    "        # Puis on ajoute le tirage souhaité à l'interieur\n",
    "        data[i] += 1\n",
    "        # On calcule le nouvel écart type et l'ajoute au pourcentage\n",
    "        percent[i]:int = moy_a_16(data, t, size)\n",
    "    return percent"
   ]
  },
  {
   "cell_type": "markdown",
   "metadata": {},
   "source": [
    "## Nouvel écart type"
   ]
  },
  {
   "cell_type": "code",
   "execution_count": null,
   "metadata": {},
   "outputs": [],
   "source": [
    "def normal_ecart_type_min(d:dict[int, int]={}, t:int=0, size:int=0) -> list[tuple[int, float]]:\n",
    "    # Initialisation du set de pourcentage\n",
    "    percent = {}\n",
    "\n",
    "    # On rajoute un seul tirage\n",
    "    t += 1\n",
    "\n",
    "    # Liste des combinaisons déjà vues\n",
    "    values_already_seen:set = set()\n",
    "\n",
    "    # Pour chaque numero de boule\n",
    "    for i in range(1, size+1):\n",
    "        print(i, end=\"\\r\")\n",
    "        # On copie le set d'origine\n",
    "        data_b1 = d.copy()\n",
    "        # Puis on ajoute le tirage souhaité à l'interieur\n",
    "        data_b1[i] += 1\n",
    "\n",
    "        for j in range(1, size+1):\n",
    "            if j == i:continue\n",
    "\n",
    "            data_b2 = data_b1.copy()\n",
    "            data_b2[j] += 1\n",
    "            for k in range(1, size+1):\n",
    "                if k == i or k == j:continue\n",
    "\n",
    "                data_b3 = data_b2.copy()\n",
    "                data_b3[k] += 1\n",
    "                for l in range(1, size+1):\n",
    "                    if l == k or l == j or l == i:continue\n",
    "\n",
    "                    data_b4 = data_b3.copy()\n",
    "                    data_b4[l] += 1\n",
    "                    for m in range(1, size+1):\n",
    "                        if m == l or m == k or m == j or m == i:continue\n",
    "\n",
    "                        data_b5 = data_b4.copy()\n",
    "                        data_b5[m] += 1\n",
    "\n",
    "                        key:tuple = tuple(sorted((i, j, k, l, m)))\n",
    "\n",
    "                        if key in values_already_seen:\n",
    "                            continue\n",
    "\n",
    "                        values_already_seen.add(key)\n",
    "\n",
    "                        # On calcule le nouvel écart type et l'ajoute au pourcentage\n",
    "                        percent[key]:int = moy_a_16(data_b5, t, size)\n",
    "        \n",
    "    return percent"
   ]
  },
  {
   "cell_type": "code",
   "execution_count": null,
   "metadata": {},
   "outputs": [],
   "source": [
    "def result(d:dict[int, int], t:int, size:int, p:list[int], tirage:int=1):\n",
    "    # Retourne la liste triée des écarts types\n",
    "    s:list\n",
    "    if tirage == 1:\n",
    "        s = sorted(chance_ecart_type_min(d, t, size).items(), key=lambda x: x[1])\n",
    "    else:\n",
    "        s = sorted(normal_ecart_type_min(d, t, size).items(), key=lambda x: x[1])\n",
    "\n",
    "    # Print avec couleur\n",
    "    if size == 10:\n",
    "        p = p[-1]\n",
    "        for each in s:\n",
    "            print(\"\\33[42m\" if each[0] == p else \"\\33[0m\", each)\n",
    "    else:\n",
    "        p = p[:-1]\n",
    "        for each in s:\n",
    "            print(\"\\33[42m\" if each[0] in p else \"\\33[0m\", each)\n",
    "\n",
    "    return"
   ]
  },
  {
   "cell_type": "code",
   "execution_count": null,
   "metadata": {},
   "outputs": [],
   "source": [
    "# Liste des nombres à trouver\n",
    "prediction = [4,12,15,23,42,1]\n",
    "\n",
    "# Lecture et calcul des resultats\n",
    "data, times, size = lecture_csv()\n",
    "result(d=data, t=times, size=size, p=prediction, tirage=1)"
   ]
  }
 ],
 "metadata": {
  "kernelspec": {
   "display_name": "Python 3",
   "language": "python",
   "name": "python3"
  },
  "language_info": {
   "codemirror_mode": {
    "name": "ipython",
    "version": 3
   },
   "file_extension": ".py",
   "mimetype": "text/x-python",
   "name": "python",
   "nbconvert_exporter": "python",
   "pygments_lexer": "ipython3",
   "version": "3.11.7"
  }
 },
 "nbformat": 4,
 "nbformat_minor": 2
}
