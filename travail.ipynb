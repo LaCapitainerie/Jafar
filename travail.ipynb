{
 "cells": [
  {
   "cell_type": "markdown",
   "metadata": {},
   "source": [
    "## Problème à patch\n",
    "Problème majeur, le stockage de l'écart type est fait en floatant hors l'écart entre les écarts types est inférieur à un floatant\n",
    "stockage à changer sous forme d'entier plus précis"
   ]
  },
  {
   "cell_type": "code",
   "execution_count": 44,
   "metadata": {},
   "outputs": [],
   "source": [
    "def lecture_csv(col:str=\"\", limit:int=float('infinity')):\n",
    "    \"\"\"\n",
    "    Lis le fichier loto.csv puis crée un dictionnaire de répartition de chaque boule allant de 1 à @limit\n",
    "    \"\"\"\n",
    "    import pandas as pd;\n",
    "    df = pd.read_csv(\"loto.csv\", sep=';')\n",
    "\n",
    "\n",
    "    # Creation du set de chaque numero_chance\n",
    "    numero_chance:dict[int, int] = {i: 0 for i in range(1, min(10, limit)+1)}\n",
    "    # Initialisation du nombre de numero_chance\n",
    "    for each in df[\"numero_chance\"]:\n",
    "        if each <= limit:\n",
    "            numero_chance[each] += 1\n",
    "\n",
    "    # Creation du set de chaque boule\n",
    "    boule:dict[int, int] = {i: 0 for i in range(1, min(49, limit)+1)}\n",
    "    # Initialisation du nombre de boule\n",
    "    for i in range(1, 5):\n",
    "        # Pour les 5 sets\n",
    "        for each in df[f\"boule_{i}\"]:\n",
    "            if each <= limit:\n",
    "                boule[each] += 1\n",
    "\n",
    "    print(numero_chance if col == \"chance\" else boule)\n",
    "\n",
    "    # Décision du retour\n",
    "    d, size = (numero_chance, min(10, limit)) if col == \"chance\" else (boule, min(49, limit))\n",
    "    return (d, sum(d.values()), size)"
   ]
  },
  {
   "cell_type": "code",
   "execution_count": 51,
   "metadata": {},
   "outputs": [],
   "source": [
    "def moy_a_16(d:dict[int, int], t:int, size:int) -> int:\n",
    "\n",
    "    # Retourne l'écart type des pourcentages\n",
    "    return sum([abs(val*size - t) for val in d.values()])"
   ]
  },
  {
   "cell_type": "markdown",
   "metadata": {},
   "source": [
    "### Ancien ecart type"
   ]
  },
  {
   "cell_type": "code",
   "execution_count": 49,
   "metadata": {},
   "outputs": [],
   "source": [
    "def ecart_type_min(d:dict[int, int], t:int, size:int) -> list[tuple[int, float]]:\n",
    "    # Initialisation du set de pourcentage\n",
    "    percent:dict[int, int] = {}\n",
    "    \n",
    "    # On rajoute un seul tirage\n",
    "    t += 1\n",
    "\n",
    "    # Pour chaque numero de boule\n",
    "    for i in range(1, size+1):\n",
    "        # On copie le set d'origine\n",
    "        data:dict[int, int] = d.copy()\n",
    "        # Puis on ajoute le tirage souhaité à l'interieur\n",
    "        data[i] += 1\n",
    "        # On calcule le nouvel écart type et l'ajoute au pourcentage\n",
    "        percent[i]:int = moy_a_16(data, t, size)\n",
    "        print(i, percent[i])\n",
    "    return percent"
   ]
  },
  {
   "cell_type": "code",
   "execution_count": 47,
   "metadata": {},
   "outputs": [],
   "source": [
    "def result(d:dict[int, int], t:int, size:int):\n",
    "    # Retourne la liste triée des écarts types\n",
    "    s = sorted(ecart_type_min(d, t, size).items(), key=lambda x: x[1])\n",
    "    #[print(each) for each in s]\n",
    "    return s"
   ]
  },
  {
   "cell_type": "code",
   "execution_count": 52,
   "metadata": {},
   "outputs": [
    {
     "name": "stdout",
     "output_type": "stream",
     "text": [
      "{1: 62, 2: 67, 3: 57, 4: 67, 5: 61, 6: 61, 7: 65, 8: 59, 9: 81, 10: 78}\n",
      "1 588\n",
      "2 608\n",
      "3 588\n",
      "4 608\n",
      "5 588\n",
      "6 588\n",
      "7 590\n",
      "8 588\n",
      "9 608\n",
      "10 608\n"
     ]
    },
    {
     "data": {
      "text/plain": [
       "[(1, 588),\n",
       " (3, 588),\n",
       " (5, 588),\n",
       " (6, 588),\n",
       " (8, 588),\n",
       " (7, 590),\n",
       " (2, 608),\n",
       " (4, 608),\n",
       " (9, 608),\n",
       " (10, 608)]"
      ]
     },
     "execution_count": 52,
     "metadata": {},
     "output_type": "execute_result"
    }
   ],
   "source": [
    "data, times, size = lecture_csv(col=\"chance\")\n",
    "result(data, times, size)"
   ]
  }
 ],
 "metadata": {
  "kernelspec": {
   "display_name": "Python 3",
   "language": "python",
   "name": "python3"
  },
  "language_info": {
   "codemirror_mode": {
    "name": "ipython",
    "version": 3
   },
   "file_extension": ".py",
   "mimetype": "text/x-python",
   "name": "python",
   "nbconvert_exporter": "python",
   "pygments_lexer": "ipython3",
   "version": "3.11.7"
  }
 },
 "nbformat": 4,
 "nbformat_minor": 2
}
